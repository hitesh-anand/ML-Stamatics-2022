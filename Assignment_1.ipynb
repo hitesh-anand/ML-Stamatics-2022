{
 "cells": [
  {
   "cell_type": "code",
   "execution_count": 1,
   "id": "42f5e68e",
   "metadata": {},
   "outputs": [],
   "source": [
    "import numpy as np"
   ]
  },
  {
   "cell_type": "markdown",
   "id": "2b209b50",
   "metadata": {},
   "source": [
    "Q1 Let x = np.arange(4, dtype=np.int64). Create an array of ones with the same shape and type as X."
   ]
  },
  {
   "cell_type": "code",
   "execution_count": null,
   "id": "729dc9cd",
   "metadata": {},
   "outputs": [],
   "source": []
  },
  {
   "cell_type": "markdown",
   "id": "1b9ea803",
   "metadata": {},
   "source": [
    "Q2 Let X = np.array([[1, 2], [3, 4]]). Convert it into a matrix."
   ]
  },
  {
   "cell_type": "code",
   "execution_count": null,
   "id": "23e39b64",
   "metadata": {},
   "outputs": [],
   "source": []
  },
  {
   "cell_type": "markdown",
   "id": "4c1fc004",
   "metadata": {},
   "source": [
    "Q3 Create a 1-D array of 50 evenly spaced elements between 3. and 10., inclusive."
   ]
  },
  {
   "cell_type": "code",
   "execution_count": null,
   "id": "9f0a47db",
   "metadata": {},
   "outputs": [],
   "source": []
  },
  {
   "cell_type": "markdown",
   "id": "0289d659",
   "metadata": {},
   "source": [
    "Q4 Let x be array [[1, 2, 3], [4, 5, 6]]. Convert it to [1 4 2 5 3 6]."
   ]
  },
  {
   "cell_type": "code",
   "execution_count": null,
   "id": "f8435bca",
   "metadata": {},
   "outputs": [],
   "source": []
  },
  {
   "cell_type": "markdown",
   "id": "71988acd",
   "metadata": {},
   "source": [
    "Q5 Let x be an array [1, 2, 3, ..., 9]. Split x into 3 arrays, each of which has 4, 2, and 3 elements in the original order."
   ]
  },
  {
   "cell_type": "code",
   "execution_count": null,
   "id": "9425a232",
   "metadata": {},
   "outputs": [],
   "source": []
  },
  {
   "cell_type": "markdown",
   "id": "6aecae8c",
   "metadata": {},
   "source": [
    " Q6 Compute the inverse and primary diagnol sum of x=[[1,2],[3,4]]"
   ]
  },
  {
   "cell_type": "code",
   "execution_count": null,
   "id": "3d79a142",
   "metadata": {},
   "outputs": [],
   "source": []
  },
  {
   "cell_type": "markdown",
   "id": "9f088694",
   "metadata": {},
   "source": [
    "Q7 Sort x along the second axis. x = [[1,4],[3,1]]"
   ]
  },
  {
   "cell_type": "code",
   "execution_count": null,
   "id": "40099735",
   "metadata": {},
   "outputs": [],
   "source": []
  },
  {
   "cell_type": "markdown",
   "id": "51cc1a71",
   "metadata": {},
   "source": [
    "Q8 Get the indices that would sort x(as above) along the second axis."
   ]
  },
  {
   "cell_type": "code",
   "execution_count": null,
   "id": "f314f2b6",
   "metadata": {},
   "outputs": [],
   "source": []
  },
  {
   "cell_type": "markdown",
   "id": "1cf5455c",
   "metadata": {},
   "source": [
    "Initiate x as a 2x5 array with random values from 0 to 10(not inclusive).Get the maximum and minimum values and their indices of x along the second axis."
   ]
  },
  {
   "cell_type": "code",
   "execution_count": null,
   "id": "4c9518c5",
   "metadata": {},
   "outputs": [],
   "source": []
  },
  {
   "cell_type": "markdown",
   "id": "d4c46002",
   "metadata": {},
   "source": [
    "Run the following load command to get the 2-Dim iris dataset. Do the following operations on it."
   ]
  },
  {
   "cell_type": "code",
   "execution_count": 28,
   "id": "6d70b524",
   "metadata": {},
   "outputs": [],
   "source": [
    "url = 'https://archive.ics.uci.edu/ml/machine-learning-databases/iris/iris.data'\n",
    "iris_2d = np.genfromtxt(url, delimiter=',', dtype='float', usecols=[0,1,2,3])"
   ]
  },
  {
   "cell_type": "markdown",
   "id": "09bd05b0",
   "metadata": {},
   "source": [
    "Drop rows that contain a missing value. "
   ]
  },
  {
   "cell_type": "code",
   "execution_count": null,
   "id": "ffd754b3",
   "metadata": {},
   "outputs": [],
   "source": []
  },
  {
   "cell_type": "markdown",
   "id": "8cbd9fb3",
   "metadata": {},
   "source": [
    "Find the correlation between first two columns."
   ]
  },
  {
   "cell_type": "code",
   "execution_count": null,
   "id": "e3ef5a77",
   "metadata": {},
   "outputs": [],
   "source": []
  },
  {
   "cell_type": "markdown",
   "id": "73965a4a",
   "metadata": {},
   "source": [
    "Find the mean,median and standard deviation of column 3."
   ]
  },
  {
   "cell_type": "code",
   "execution_count": null,
   "id": "ab824597",
   "metadata": {},
   "outputs": [],
   "source": []
  },
  {
   "cell_type": "markdown",
   "id": "14e0308e",
   "metadata": {},
   "source": [
    "Create a new column for volume in iris_2d, where volume is (pi x petallength x sepal_length^2)/3"
   ]
  },
  {
   "cell_type": "code",
   "execution_count": null,
   "id": "91c944c3",
   "metadata": {},
   "outputs": [],
   "source": []
  },
  {
   "cell_type": "markdown",
   "id": "b7c1758f",
   "metadata": {},
   "source": [
    "Run the following loaad command and solve the following questions"
   ]
  },
  {
   "cell_type": "code",
   "execution_count": 52,
   "id": "b3fae8a7",
   "metadata": {},
   "outputs": [],
   "source": [
    "url = 'https://archive.ics.uci.edu/ml/machine-learning-databases/iris/iris.data'\n",
    "iris = np.genfromtxt(url, delimiter=',', dtype='object')\n",
    "names = ('sepallength', 'sepalwidth', 'petallength', 'petalwidth', 'species')"
   ]
  },
  {
   "cell_type": "markdown",
   "id": "4ee21e50",
   "metadata": {},
   "source": [
    "Find the count of unique species."
   ]
  },
  {
   "cell_type": "code",
   "execution_count": null,
   "id": "730ad758",
   "metadata": {},
   "outputs": [],
   "source": []
  },
  {
   "cell_type": "markdown",
   "id": "6d054b10",
   "metadata": {},
   "source": [
    "Bin the petal length (3rd) column of iris_2d to form a text array, such that if petal length is:\n",
    "Less than 3 –> ‘small’\n",
    "3-5 –> ‘medium’\n",
    "‘>=5 –> ‘large’"
   ]
  },
  {
   "cell_type": "code",
   "execution_count": null,
   "id": "5be1b28a",
   "metadata": {
    "scrolled": false
   },
   "outputs": [],
   "source": []
  },
  {
   "cell_type": "markdown",
   "id": "87b2ddd8",
   "metadata": {},
   "source": [
    "Find the most frequent value of petal length (3rd column) in iris dataset"
   ]
  },
  {
   "cell_type": "code",
   "execution_count": null,
   "id": "bb79857d",
   "metadata": {},
   "outputs": [],
   "source": []
  }
 ],
 "metadata": {
  "kernelspec": {
   "display_name": "Python 3 (ipykernel)",
   "language": "python",
   "name": "python3"
  },
  "language_info": {
   "codemirror_mode": {
    "name": "ipython",
    "version": 3
   },
   "file_extension": ".py",
   "mimetype": "text/x-python",
   "name": "python",
   "nbconvert_exporter": "python",
   "pygments_lexer": "ipython3",
   "version": "3.8.10"
  }
 },
 "nbformat": 4,
 "nbformat_minor": 5
}
